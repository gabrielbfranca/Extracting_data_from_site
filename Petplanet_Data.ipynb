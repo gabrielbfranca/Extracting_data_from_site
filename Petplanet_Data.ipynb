{
 "cells": [
  {
   "cell_type": "code",
   "execution_count": 1,
   "metadata": {},
   "outputs": [],
   "source": [
    "import requests\n",
    "from bs4 import BeautifulSoup\n",
    "dog_categories = [\"/d9/complete_dry_dog_food_all?page_size=714\", \n",
    "                  \"/d133/complete_moist_dog_foods?page_size=109\",\n",
    "                  \"/d206/dog_treats_and_chews?page_size=267\", \n",
    "                  \"/d12/dog_beds?page_size=155\",\n",
    "                  \"/d17/dog_toys?page_size=185\"]\n",
    "\n",
    "cat_categories = [\"/d34/cat_food?page_size=481\",\n",
    "                  \"/d1742/cat_treats?page_size=36\",\n",
    "                 \"/d1066/cat_toys?page_size=81\"] "
   ]
  },
  {
   "cell_type": "code",
   "execution_count": 10,
   "metadata": {},
   "outputs": [
    {
     "data": {
      "text/plain": [
       "('Good Girl Catnip Drops 40g',\n",
       " '£0.79',\n",
       " 'https://www.petplanet.co.uk/image/240x240/99_catnip_drops_1498654096_6ab357.jpg',\n",
       " 'cat>cat_food',\n",
       " ' DescriptionFlavoured with real catnip, these irresistible Good Girl Catnip Drops will soon have kitty racing to get one!AdvisoryFresh drinking water should always be available. ')"
      ]
     },
     "execution_count": 10,
     "metadata": {},
     "output_type": "execute_result"
    }
   ],
   "source": [
    "for url in dog_categories:\n",
    "    r = requests.get(\"https://www.petplanet.co.uk\" + url)\n",
    "    get_data(r, url, \"dog\")\n",
    "petplanetproducts[1]"
   ]
  },
  {
   "cell_type": "code",
   "execution_count": 8,
   "metadata": {},
   "outputs": [
    {
     "data": {
      "text/plain": [
       "596"
      ]
     },
     "execution_count": 8,
     "metadata": {},
     "output_type": "execute_result"
    }
   ],
   "source": [
    "for url in cat_categories:\n",
    "     r = requests.get(\"https://www.petplanet.co.uk\" + url)\n",
    "     get_data(r, url, \"cat\")\n",
    "len(petplanetproducts)\n",
    "    "
   ]
  },
  {
   "cell_type": "code",
   "execution_count": 21,
   "metadata": {},
   "outputs": [
    {
     "data": {
      "text/html": [
       "<div>\n",
       "<style scoped>\n",
       "    .dataframe tbody tr th:only-of-type {\n",
       "        vertical-align: middle;\n",
       "    }\n",
       "\n",
       "    .dataframe tbody tr th {\n",
       "        vertical-align: top;\n",
       "    }\n",
       "\n",
       "    .dataframe thead th {\n",
       "        text-align: right;\n",
       "    }\n",
       "</style>\n",
       "<table border=\"1\" class=\"dataframe\">\n",
       "  <thead>\n",
       "    <tr style=\"text-align: right;\">\n",
       "      <th></th>\n",
       "      <th>name</th>\n",
       "      <th>price</th>\n",
       "      <th>image</th>\n",
       "      <th>category</th>\n",
       "      <th>desc</th>\n",
       "    </tr>\n",
       "  </thead>\n",
       "  <tbody>\n",
       "    <tr>\n",
       "      <td>0</td>\n",
       "      <td>Orijen Cat and Kitten Grain Free Dry Cat Food ...</td>\n",
       "      <td>£44.99</td>\n",
       "      <td>https://www.petplanet.co.uk/image/240x240/99_c...</td>\n",
       "      <td>cat&gt;cat_food</td>\n",
       "      <td>DescriptionINCREASED MEAT CONTENT: Now 85% me...</td>\n",
       "    </tr>\n",
       "    <tr>\n",
       "      <td>1</td>\n",
       "      <td>Good Girl Catnip Drops 40g</td>\n",
       "      <td>£0.79</td>\n",
       "      <td>https://www.petplanet.co.uk/image/240x240/99_c...</td>\n",
       "      <td>cat&gt;cat_food</td>\n",
       "      <td>DescriptionFlavoured with real catnip, these ...</td>\n",
       "    </tr>\n",
       "    <tr>\n",
       "      <td>2</td>\n",
       "      <td>Dreamies Cat Treats - 60g</td>\n",
       "      <td>£1.19</td>\n",
       "      <td>https://www.petplanet.co.uk/image/240x240/99_c...</td>\n",
       "      <td>cat&gt;cat_food</td>\n",
       "      <td>DescriptionDreamies Cat Treats are a compleme...</td>\n",
       "    </tr>\n",
       "    <tr>\n",
       "      <td>3</td>\n",
       "      <td>Gourmet Mon Petit Cat Food 6x50g</td>\n",
       "      <td>£1.99</td>\n",
       "      <td>https://www.petplanet.co.uk/image/240x240/99_u...</td>\n",
       "      <td>cat&gt;cat_food</td>\n",
       "      <td>DescriptionThis Gourmet Mon Petit Cat Food of...</td>\n",
       "    </tr>\n",
       "    <tr>\n",
       "      <td>4</td>\n",
       "      <td>Felix Goody Bag Cat Treats 60g</td>\n",
       "      <td>£0.99</td>\n",
       "      <td>https://www.petplanet.co.uk/image/240x240/99_g...</td>\n",
       "      <td>cat&gt;cat_food</td>\n",
       "      <td>DescriptionTreat your cat with FELIX® GOODY B...</td>\n",
       "    </tr>\n",
       "  </tbody>\n",
       "</table>\n",
       "</div>"
      ],
      "text/plain": [
       "                                                name   price  \\\n",
       "0  Orijen Cat and Kitten Grain Free Dry Cat Food ...  £44.99   \n",
       "1                         Good Girl Catnip Drops 40g   £0.79   \n",
       "2                          Dreamies Cat Treats - 60g   £1.19   \n",
       "3                   Gourmet Mon Petit Cat Food 6x50g   £1.99   \n",
       "4                     Felix Goody Bag Cat Treats 60g   £0.99   \n",
       "\n",
       "                                               image      category  \\\n",
       "0  https://www.petplanet.co.uk/image/240x240/99_c...  cat>cat_food   \n",
       "1  https://www.petplanet.co.uk/image/240x240/99_c...  cat>cat_food   \n",
       "2  https://www.petplanet.co.uk/image/240x240/99_c...  cat>cat_food   \n",
       "3  https://www.petplanet.co.uk/image/240x240/99_u...  cat>cat_food   \n",
       "4  https://www.petplanet.co.uk/image/240x240/99_g...  cat>cat_food   \n",
       "\n",
       "                                                desc  \n",
       "0   DescriptionINCREASED MEAT CONTENT: Now 85% me...  \n",
       "1   DescriptionFlavoured with real catnip, these ...  \n",
       "2   DescriptionDreamies Cat Treats are a compleme...  \n",
       "3   DescriptionThis Gourmet Mon Petit Cat Food of...  \n",
       "4   DescriptionTreat your cat with FELIX® GOODY B...  "
      ]
     },
     "execution_count": 21,
     "metadata": {},
     "output_type": "execute_result"
    }
   ],
   "source": [
    "import pandas as pd\n",
    "df = pd.DataFrame(petplanetproducts, columns=['name', 'price', 'image', 'category','desc'])\n",
    "df.head()"
   ]
  },
  {
   "cell_type": "code",
   "execution_count": 22,
   "metadata": {},
   "outputs": [],
   "source": [
    "xlwriter = pd.ExcelWriter('multiple DFs.xlsx')\n",
    "df.to_excel(xlwriter, sheet_name=\"PetPlanet2\", index=False)"
   ]
  },
  {
   "cell_type": "code",
   "execution_count": 7,
   "metadata": {},
   "outputs": [],
   "source": [
    "petplanetproducts = []\n",
    "def get_data(site, animal_category_url, animal):\n",
    "    soup = BeautifulSoup(site.text, 'html.parser')\n",
    "    products = soup.find_all(\"div\", attrs={\"class\":\"item\"})\n",
    "    for product in products:        \n",
    "        name = product.a[\"title\"]\n",
    "        price = product.find(\"span\", attrs={\"class\":\"price right\"}).text\n",
    "        image = \"https://www.petplanet.co.uk\" + product.img[\"src\"]\n",
    "        category = animal + \">\" + url.split(\"/\")[2].split(\"?\")[0]\n",
    "        \n",
    "        link = product.a[\"href\"]\n",
    "        product_site = requests.get(\"https://www.petplanet.co.uk\" + link)\n",
    "        new_soup = BeautifulSoup(product_site.text, 'html.parser')\n",
    "        desc = new_soup.find(\"div\", attrs={\"class\":\"description\"}).text.replace(\"\\n\", \"\")\n",
    "        \n",
    "        petplanetproducts.append((name, price, image, category, desc))\n",
    "    \n",
    "        "
   ]
  },
  {
   "cell_type": "code",
   "execution_count": 4,
   "metadata": {},
   "outputs": [
    {
     "data": {
      "text/plain": [
       "' DescriptionINCREASED MEAT CONTENT: Now 85% meat, 15% fruits and vegetables.From Dachshunds to Great Danes, all dogs possess a biological need for a diet rich and varied in fresh whole animal ingredients. With 38% richly nourishing protein and a limited 19% carbohydrates, Orijen Original Dog Food nourishes dogs of all breeds and life stages according to their evolutionary and biological needs.Key Features:2/3 of Orijen meats are fresh refrigerated without preservatives or raw flash-frozen without preservatives38% richly nourishing protein and limited 20% low-glycemic carbohydratesCage-free chicken and turkey, nest-laid eggs, and wild-caught walleye and herringOnly 1 supplement – ZincGrain-free recipeSupplies all of the energy your dog needsPrepared from Canada’s best and freshest ingredientsBrimming with goodness to perfectly nourish dogs of all breeds and life stagesOnly meat deemed fit for human consumption is used in Orijen foodOrijen Original Grain Free Dry Dog Food is available in the following bag sizes:2kg bag6kg bag11.4kg bag2 x 6kg bags2 x 11.4kg bags'"
      ]
     },
     "execution_count": 4,
     "metadata": {},
     "output_type": "execute_result"
    }
   ],
   "source": [
    "s = requests.get(\"https://www.petplanet.co.uk\" + \"/d9/complete_dry_dog_food_all?page_size=3\")\n",
    "soup = BeautifulSoup(s.text, 'html.parser')\n",
    "products = soup.find_all(\"div\", attrs={\"class\":\"item\"})\n",
    "test = []\n",
    "for product in products:\n",
    "    link = product.a[\"href\"]\n",
    "    product_site = requests.get(\"https://www.petplanet.co.uk\" + link)\n",
    "    new_soup = BeautifulSoup(product_site.text, 'html.parser')\n",
    "    desc = new_soup.find(\"div\", attrs={\"class\":\"description\"}).text.replace(\"\\n\", \"\")\n",
    "    test.append((desc))\n",
    "test[0]"
   ]
  },
  {
   "cell_type": "code",
   "execution_count": 34,
   "metadata": {},
   "outputs": [
    {
     "name": "stdout",
     "output_type": "stream",
     "text": [
      "Natures Menu Mini Dog Treats 60g\n"
     ]
    }
   ],
   "source": [
    "# gets the value from an atribute wich is the name\n",
    "actual_product = first_product.a[\"title\"]\n",
    "# attribute = actual_product[\"title\"]\n",
    "print(actual_product)"
   ]
  },
  {
   "cell_type": "code",
   "execution_count": 37,
   "metadata": {},
   "outputs": [
    {
     "data": {
      "text/plain": [
       "'£2.19'"
      ]
     },
     "execution_count": 37,
     "metadata": {},
     "output_type": "execute_result"
    }
   ],
   "source": [
    "# now this is the current price\n",
    "first_product.find(\"span\", attrs={\"class\":\"price right\"}).text"
   ]
  },
  {
   "cell_type": "code",
   "execution_count": 33,
   "metadata": {},
   "outputs": [],
   "source": [
    "# this is the old price some of them have no old price\n",
    "# first_product.find(\"span\", attrs={\"class\":\"price-old\"})"
   ]
  },
  {
   "cell_type": "code",
   "execution_count": null,
   "metadata": {},
   "outputs": [],
   "source": []
  },
  {
   "cell_type": "code",
   "execution_count": 38,
   "metadata": {},
   "outputs": [],
   "source": [
    "data = []\n",
    "for product in products:\n",
    "    name = product.a[\"title\"]\n",
    "    price = product.find(\"span\", attrs={\"class\":\"price right\"}).text\n",
    "    image =\n",
    "    data.append((name, price, image))"
   ]
  },
  {
   "cell_type": "code",
   "execution_count": 17,
   "metadata": {},
   "outputs": [
    {
     "name": "stdout",
     "output_type": "stream",
     "text": [
      "complete_dry_dog_food_all\n"
     ]
    }
   ],
   "source": [
    "test = \"/d9/complete_dry_dog_food_all?page_size=714\".split(\"/\")[2].split(\"?\")[0]\n",
    "print(test)"
   ]
  },
  {
   "cell_type": "code",
   "execution_count": 40,
   "metadata": {},
   "outputs": [],
   "source": [
    "import pandas as pd\n",
    "df = pd.DataFrame(data, columns=['name', 'price'])"
   ]
  },
  {
   "cell_type": "code",
   "execution_count": 41,
   "metadata": {},
   "outputs": [
    {
     "data": {
      "text/html": [
       "<div>\n",
       "<style scoped>\n",
       "    .dataframe tbody tr th:only-of-type {\n",
       "        vertical-align: middle;\n",
       "    }\n",
       "\n",
       "    .dataframe tbody tr th {\n",
       "        vertical-align: top;\n",
       "    }\n",
       "\n",
       "    .dataframe thead th {\n",
       "        text-align: right;\n",
       "    }\n",
       "</style>\n",
       "<table border=\"1\" class=\"dataframe\">\n",
       "  <thead>\n",
       "    <tr style=\"text-align: right;\">\n",
       "      <th></th>\n",
       "      <th>name</th>\n",
       "      <th>price</th>\n",
       "    </tr>\n",
       "  </thead>\n",
       "  <tbody>\n",
       "    <tr>\n",
       "      <td>0</td>\n",
       "      <td>Orijen Original Grain Free Dry Dog Food - 11.4...</td>\n",
       "      <td>£69.99</td>\n",
       "    </tr>\n",
       "    <tr>\n",
       "      <td>1</td>\n",
       "      <td>Natures Menu Mini Dog Treats 60g</td>\n",
       "      <td>£2.19</td>\n",
       "    </tr>\n",
       "    <tr>\n",
       "      <td>2</td>\n",
       "      <td>Nylabone Chicken Puppy Bone Triple Pack - Small</td>\n",
       "      <td>£6.99</td>\n",
       "    </tr>\n",
       "    <tr>\n",
       "      <td>3</td>\n",
       "      <td>2 x Orijen Original Grain Free Dry Dog Food - ...</td>\n",
       "      <td>£135.98</td>\n",
       "    </tr>\n",
       "    <tr>\n",
       "      <td>4</td>\n",
       "      <td>James Wellbeloved Adult Dry Dog Food 2kg</td>\n",
       "      <td>£6.99</td>\n",
       "    </tr>\n",
       "  </tbody>\n",
       "</table>\n",
       "</div>"
      ],
      "text/plain": [
       "                                                name    price\n",
       "0  Orijen Original Grain Free Dry Dog Food - 11.4...   £69.99\n",
       "1                   Natures Menu Mini Dog Treats 60g    £2.19\n",
       "2    Nylabone Chicken Puppy Bone Triple Pack - Small    £6.99\n",
       "3  2 x Orijen Original Grain Free Dry Dog Food - ...  £135.98\n",
       "4           James Wellbeloved Adult Dry Dog Food 2kg    £6.99"
      ]
     },
     "execution_count": 41,
     "metadata": {},
     "output_type": "execute_result"
    }
   ],
   "source": [
    "df.head()"
   ]
  },
  {
   "cell_type": "code",
   "execution_count": 42,
   "metadata": {},
   "outputs": [],
   "source": [
    "df.to_csv('Petplanet.csv', index=False, encoding='utf-8')"
   ]
  }
 ],
 "metadata": {
  "kernelspec": {
   "display_name": "Python 3",
   "language": "python",
   "name": "python3"
  },
  "language_info": {
   "codemirror_mode": {
    "name": "ipython",
    "version": 3
   },
   "file_extension": ".py",
   "mimetype": "text/x-python",
   "name": "python",
   "nbconvert_exporter": "python",
   "pygments_lexer": "ipython3",
   "version": "3.7.4"
  }
 },
 "nbformat": 4,
 "nbformat_minor": 2
}
